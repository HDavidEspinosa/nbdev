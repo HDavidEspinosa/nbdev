{
 "cells": [
  {
   "cell_type": "code",
   "execution_count": null,
   "source": [
    "# default_exp build_parser\r\n"
   ],
   "outputs": [],
   "metadata": {}
  },
  {
   "cell_type": "code",
   "execution_count": null,
   "source": [
    "#hide\r\n",
    "from nbdev.showdoc import *\r\n"
   ],
   "outputs": [],
   "metadata": {}
  },
  {
   "cell_type": "markdown",
   "source": [
    " # 03 build_parser Outlining a player's army, base and tech builds\n",
    "\n",
    " > : This module contains functions that allow parsing the players' build orders and some related performance indicators."
   ],
   "metadata": {}
  },
  {
   "cell_type": "markdown",
   "source": [
    " ## Setup for examples and tests\n",
    "\n",
    " The following code contains this module's dependencies"
   ],
   "metadata": {}
  },
  {
   "cell_type": "code",
   "execution_count": null,
   "source": [
    "#exporti\r\n",
    "from pathlib import Path\r\n",
    "from pprint import pprint\r\n",
    "from dataclasses import dataclass, astuple, field\r\n",
    "from datetime import datetime\r\n",
    "from typing import *\r\n",
    "from fastcore import test as ft\r\n",
    "\r\n",
    "import pandas as pd\r\n",
    "import numpy as np\r\n",
    "import csv\r\n",
    "import json\r\n",
    "\r\n",
    "import sc2reader\r\n",
    "\r\n",
    "from sc2readertest import *"
   ],
   "outputs": [],
   "metadata": {}
  },
  {
   "cell_type": "code",
   "execution_count": null,
   "source": [
    "#exporti\r\n",
    "data_path = Path(Path.cwd()/'data') if Path('data').exists() else Path('../data')\r\n",
    "\r\n",
    "with open(data_path/'unit_names.csv') as f:\r\n",
    "    file_reader = csv.reader(f)\r\n",
    "    unit_names = next(file_reader)\r\n",
    "    \r\n",
    "with open(data_path/'changes_names.csv') as f:\r\n",
    "    file_reader = csv.reader(f)\r\n",
    "    change_names = next(file_reader)\r\n",
    "    \r\n",
    "with open(data_path/'army_list.json') as f:\r\n",
    "    race_armies = json.load(f)\r\n",
    "\r\n",
    "with open(data_path/'buildings_list.json') as f:\r\n",
    "    race_buildings = json.load(f)\r\n",
    "\r\n",
    "with open(data_path/'upgrades.json') as f:\r\n",
    "    race_upgrades = json.load(f)\r\n"
   ],
   "outputs": [],
   "metadata": {}
  },
  {
   "cell_type": "code",
   "execution_count": null,
   "source": [
    "# The Replays are stored in the following dir.\n",
    "rps_path = Path(\"./test_replays\")\n",
    "\n",
    "# single_replay is the base case I use to develop the functions in this module.\n",
    "single_replay = sc2reader.load_replay(str(rps_path/\"Jagannatha LE.SC2Replay\"))\n",
    "\n",
    "# The following replays have various compositions of races, armies, structures,\n",
    "# tech updates and other game elements that allow me to test and debug the functions.abs\n",
    "sing_zerg = sc2reader.load_replay(str(rps_path/\"Oxide LE (14).SC2Replay\"))\n",
    "sing_protoss= sc2reader.load_replay(str(rps_path/\"Oxide LE (13).SC2Replay\"))\n",
    "zustates = sc2reader.load_replay(str(rps_path/'zustates.SC2Replay'))\n",
    "tustates = sc2reader.load_replay(str(rps_path/'tustates.SC2Replay'))\n",
    "tfly = sc2reader.load_replay(str(rps_path/'terranfly.SC2Replay'))\n",
    "\n",
    "# I store some basic variables out of the test case replay to make the sample code more\n",
    "# readable.\n",
    "match_events = [event for event in single_replay.events]\n",
    "rpl_duration = single_replay.length.seconds\n",
    "rpl_rec_duration = match_events[-1].second\n",
    "rpl_fps = single_replay.game_fps\n"
   ],
   "outputs": [],
   "metadata": {}
  },
  {
   "cell_type": "code",
   "execution_count": null,
   "source": [
    "def get_expansion_time(rpl: sc2reader.resources.Replay, pid: int) -> dict[str, float]:\n",
    "    bases = {'Protoss':'nexus', 'Zerg':'hatchery', 'Terran':'commandcenter'}\n",
    "    expansions = ['exp1','exp2','exp3','exp4']\n",
    "    player_race = rpl.player[pid].play_race\n",
    "    \n",
    "    units_df = composition_df(rpl, pid, buildings=True)\n",
    "\n",
    "    bases_df = units_df['Unit'].loc[(units_df.Unit == bases[player_race])]\n",
    "\n",
    "    return units_df\n"
   ],
   "outputs": [],
   "metadata": {}
  },
  {
   "cell_type": "code",
   "execution_count": null,
   "source": [
    "# units_df = sc2reader.load_replay(str(rps_path/'AllZergRepresented.SC2Replay'))\n",
    "# print(get_expansion_time(zerg_test, 1))"
   ],
   "outputs": [],
   "metadata": {}
  },
  {
   "cell_type": "code",
   "execution_count": null,
   "source": [],
   "outputs": [],
   "metadata": {}
  },
  {
   "cell_type": "markdown",
   "source": [
    " ### Player Tech Update\n",
    " Beyond buildings and training units, the third way players can spend their resources is by researching tech updates. \n",
    "However, contrary to units and buildings, player objects do not store a list of tech upgrades. Thus, I use the match's  `UpgradeCompleteEvent` to build this list. Bear in mind that, instead of recording a count for each upgrade, I can record the second at which the update takes place. I can do this because each type of update can only occur once every game. \n",
    "In the player profile, I can average the times a player researched a particular update, ignoring any matches when they didn't, to get an approximate measure of when they prefer to make any update. I can also count the number of times they research each upgrade to see what upgrades they favour. \n"
   ],
   "metadata": {}
  },
  {
   "cell_type": "code",
   "execution_count": null,
   "source": [
    "#export\n",
    "def list_player_upgrades(rpl: sc2reader.resources.Replay, pid: int) -> dict[str, float]:\n",
    "    \"\"\"Lists the times at wich the player completed their updates\n",
    "    \"\"\"\n",
    "    player_race = rpl.player[pid].play_race\n",
    "\n",
    "    upg_events = {upg_event.upgrade_type_name: calc_realtime_index(upg_event.second, rpl)\n",
    "        for upg_event in rpl.events \n",
    "        if isinstance(upg_event, sc2reader.events.tracker.UpgradeCompleteEvent) \n",
    "        and upg_event.pid == pid\n",
    "        and upg_event.upgrade_type_name in race_upgrades[player_race]}\n",
    "\n",
    "    return {upgrade_name: upg_events.get(upgrade_name, 0) for upgrade_name in race_upgrades[player_race]}\n"
   ],
   "outputs": [],
   "metadata": {}
  },
  {
   "cell_type": "code",
   "execution_count": null,
   "source": [
    "player1_upgrades = list_player_upgrades(sing_zerg, 1)\n",
    "player1_upgrades, index=['Player1_upgrades']"
   ],
   "outputs": [
    {
     "output_type": "execute_result",
     "data": {
      "text/plain": [
       "{'BansheeCloak': 0,\n",
       " 'BansheeSpeed': 0,\n",
       " 'BattlecruiserEnableSpecializations': 0,\n",
       " 'CycloneLockOnDamageUpgrade': 546.3041002277904,\n",
       " 'DrillClaws': 427.7596810933941,\n",
       " 'EnhancedShockwaves': 0,\n",
       " 'HiSecAutoTracking': 0,\n",
       " 'HighCapacityBarrels': 347.77790432801817,\n",
       " 'LiberatorAGRangeUpgrade': 0,\n",
       " 'MedivacIncreaseSpeedBoost': 0,\n",
       " 'PersonalCloaking': 0,\n",
       " 'PunisherGrenades': 0,\n",
       " 'RavenCorvidReactor': 0,\n",
       " 'ShieldWall': 0,\n",
       " 'SmartServos': 526.3086560364465,\n",
       " 'Stimpack': 0,\n",
       " 'TerranBuildingArmor': 0,\n",
       " 'TerranInfantryArmorsLevel1': 0,\n",
       " 'TerranInfantryArmorsLevel2': 0,\n",
       " 'TerranInfantryArmorsLevel3': 0,\n",
       " 'TerranInfantryWeaponsLevel1': 0,\n",
       " 'TerranInfantryWeaponsLevel2': 0,\n",
       " 'TerranInfantryWeaponsLevel3': 0,\n",
       " 'TerranShipWeaponsLevel1': 0,\n",
       " 'TerranShipWeaponsLevel2': 0,\n",
       " 'TerranShipWeaponsLevel3': 0,\n",
       " 'TerranVehicleAndShipArmorsLevel1': 0,\n",
       " 'TerranVehicleAndShipArmorsLevel2': 0,\n",
       " 'TerranVehicleAndShipArmorsLevel3': 0,\n",
       " 'TerranVehicleWeaponsLevel1': 574.1548974943053,\n",
       " 'TerranVehicleWeaponsLevel2': 0,\n",
       " 'TerranVehicleWeaponsLevel3': 0}"
      ]
     },
     "metadata": {},
     "execution_count": null
    }
   ],
   "metadata": {}
  },
  {
   "cell_type": "code",
   "execution_count": null,
   "source": [],
   "outputs": [],
   "metadata": {}
  }
 ],
 "metadata": {
  "kernelspec": {
   "display_name": "Python 3.9.5 64-bit ('sctraining_env': conda)",
   "name": "python3"
  }
 },
 "nbformat": 4,
 "nbformat_minor": 2
}