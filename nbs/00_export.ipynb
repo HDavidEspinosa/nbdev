{
 "cells": [
  {
   "cell_type": "code",
   "execution_count": null,
   "metadata": {
    "hide_input": false
   },
   "outputs": [],
   "source": [
    "#hide\r\n",
    "#default_exp export\r\n",
    "#default_cls_lvl 3\r\n",
    "from nbdev.showdoc import show_doc"
   ]
  },
  {
   "cell_type": "code",
   "execution_count": null,
   "metadata": {
    "hide_input": false
   },
   "outputs": [],
   "source": [
    "#export\r\n",
    "from nbdev.imports import *\r\n",
    "from fastcore.script import *\r\n",
    "from fastcore.foundation import *\r\n",
    "from keyword import iskeyword\r\n",
    "import nbformat"
   ]
  },
  {
   "cell_type": "markdown",
   "metadata": {},
   "source": [
    "# Export to modules\n",
    "\n",
    "> The functions that transform notebooks in a library"
   ]
  },
  {
   "cell_type": "markdown",
   "metadata": {},
   "source": [
    "The most important function defined in this module is `notebooks2script`, so you may want to jump to it before scrolling though the rest, which explain the details behind the scenes of the conversion from notebooks to library. The main things to remember are:\n",
    "- put `# export` on each cell you want exported\n",
    "- put `# exports` on each cell you want exported with the source code shown in the docs \n",
    "- put `# exporti` on each cell you want exported without it being added to `__all__`, and without it showing up in the docs.\n",
    "- one cell should contain `# default_exp` followed by the name of the module (with points for submodules and without the py extension) everything should be exported in (if one specific cell needs to be exported in a different module, just indicate it after `#export`: `#export special.module`)\n",
    "- all left members of an equality, functions and classes will be exported and variables that are not private will be put in the `__all__` automatically\n",
    "- to add something to `__all__` if it's not picked automatically, write an exported cell with something like `#add2all \"my_name\"`"
   ]
  },
  {
   "cell_type": "markdown",
   "metadata": {},
   "source": [
    "## Examples of `export`\n",
    "\n",
    "See [these examples](https://github.com/fastai/nbdev_export_demo/blob/master/demo.ipynb) on different ways to use `#export` to export code in notebooks to modules.  These include:\n",
    "\n",
    "- How to specify a default for exporting cells\n",
    "- How to hide code and not export it at all\n",
    "- How to export different cells to specific modules"
   ]
  },
  {
   "cell_type": "markdown",
   "metadata": {},
   "source": [
    "## Basic foundations"
   ]
  },
  {
   "cell_type": "markdown",
   "metadata": {},
   "source": [
    "For bootstrapping `nbdev` we have a few basic foundations defined in <code>imports</code>, which we test a show here. First, a simple config file class, `Config` that read the content of your `settings.ini` file and make it accessible:"
   ]
  },
  {
   "cell_type": "code",
   "execution_count": null,
   "metadata": {},
   "outputs": [
    {
     "data": {
      "text/markdown": [
       "<h3 id=\"Config\" class=\"doc_header\"><code>Config</code><a href=\"https://github.com/fastai/fastcore/tree/master/fastcore/foundation.py#L254\" class=\"source_link\" style=\"float:right\">[source]</a></h3>\n",
       "\n",
       "> <code>Config</code>(**`cfg_name`**=*`'settings.ini'`*)\n",
       "\n",
       "Reading and writing `settings.ini`"
      ],
      "text/plain": [
       "<IPython.core.display.Markdown object>"
      ]
     },
     "metadata": {},
     "output_type": "display_data"
    }
   ],
   "source": [
    "show_doc(Config, title_level=3)"
   ]
  },
  {
   "cell_type": "code",
   "execution_count": null,
   "metadata": {},
   "outputs": [],
   "source": [
    "create_config(\"github\", \"nbdev\", user='fastai', path='..', tst_flags='tst', cfg_name='test_settings.ini', recursive='False')\r\n",
    "cfg = Config(cfg_name='test_settings.ini')\r\n",
    "test_eq(cfg.lib_name, 'nbdev')\r\n",
    "test_eq(cfg.git_url, \"https://github.com/fastai/nbdev/tree/master/\")\r\n",
    "# test_eq(cfg.path(\"lib_path\"), Path.cwd().parent/'nbdev')\r\n",
    "# test_eq(cfg.path(\"nbs_path\"), Path.cwd())\r\n",
    "# test_eq(cfg.path(\"doc_path\"), Path.cwd().parent/'docs')\r\n",
    "test_eq(cfg.custom_sidebar, 'False')\r\n",
    "test_eq(cfg.recursive, 'False')"
   ]
  },
  {
   "cell_type": "markdown",
   "metadata": {},
   "source": [
    "## Reading a notebook"
   ]
  },
  {
   "cell_type": "markdown",
   "metadata": {},
   "source": [
    "### What's a notebook?"
   ]
  },
  {
   "cell_type": "markdown",
   "metadata": {},
   "source": [
    "A jupyter notebook is a json file behind the scenes. We can just read it with the json module, which will return a nested dictionary of dictionaries/lists of dictionaries, but there are some small differences between reading the json and using the tools from `nbformat` so we'll use this one."
   ]
  },
  {
   "cell_type": "code",
   "execution_count": null,
   "metadata": {},
   "outputs": [],
   "source": [
    "#export\r\n",
    "def read_nb(fname):\r\n",
    "    \"Read the notebook in `fname`.\"\r\n",
    "    with open(Path(fname),'r', encoding='utf8') as f: return nbformat.reads(f.read(), as_version=4)"
   ]
  },
  {
   "cell_type": "markdown",
   "metadata": {},
   "source": [
    "`fname` can be a string or a pathlib object."
   ]
  },
  {
   "cell_type": "code",
   "execution_count": null,
   "metadata": {},
   "outputs": [],
   "source": [
    "test_nb = read_nb('00_export.ipynb')"
   ]
  },
  {
   "cell_type": "markdown",
   "metadata": {},
   "source": [
    "The root has four keys: `cells` contains the cells of the notebook, `metadata` some stuff around the version of python used to execute the notebook, `nbformat` and `nbformat_minor` the version of nbformat. "
   ]
  },
  {
   "cell_type": "code",
   "execution_count": null,
   "metadata": {},
   "outputs": [
    {
     "data": {
      "text/plain": [
       "dict_keys(['cells', 'metadata', 'nbformat', 'nbformat_minor'])"
      ]
     },
     "execution_count": null,
     "metadata": {},
     "output_type": "execute_result"
    }
   ],
   "source": [
    "test_nb.keys()"
   ]
  },
  {
   "cell_type": "code",
   "execution_count": null,
   "metadata": {},
   "outputs": [
    {
     "data": {
      "text/plain": [
       "{'jupytext': {'split_at_heading': True},\n",
       " 'kernelspec': {'name': 'python3',\n",
       "  'display_name': \"Python 3.9.5 64-bit ('sctraining_env': conda)\"},\n",
       " 'language_info': {'name': 'python',\n",
       "  'version': '3.9.5',\n",
       "  'mimetype': 'text/x-python',\n",
       "  'codemirror_mode': {'name': 'ipython', 'version': 3},\n",
       "  'pygments_lexer': 'ipython3',\n",
       "  'nbconvert_exporter': 'python',\n",
       "  'file_extension': '.py'},\n",
       " 'interpreter': {'hash': 'a3b0098715de2fdc5c992906ea13628bfdb0736e4551c04209ccb62635ab8ee3'}}"
      ]
     },
     "execution_count": null,
     "metadata": {},
     "output_type": "execute_result"
    }
   ],
   "source": [
    "test_nb['metadata']"
   ]
  },
  {
   "cell_type": "code",
   "execution_count": null,
   "metadata": {},
   "outputs": [
    {
     "data": {
      "text/plain": [
       "'4.4'"
      ]
     },
     "execution_count": null,
     "metadata": {},
     "output_type": "execute_result"
    }
   ],
   "source": [
    "f\"{test_nb['nbformat']}.{test_nb['nbformat_minor']}\""
   ]
  },
  {
   "cell_type": "markdown",
   "metadata": {},
   "source": [
    "The cells key then contains a list of cells. Each one is a new dictionary that contains entries like the type (code or markdown), the source (what is written in the cell) and the output (for code cells)."
   ]
  },
  {
   "cell_type": "code",
   "execution_count": null,
   "metadata": {},
   "outputs": [
    {
     "data": {
      "text/plain": [
       "{'cell_type': 'code',\n",
       " 'execution_count': 1,\n",
       " 'source': '#hide\\r\\n#default_exp export\\r\\n#default_cls_lvl 3\\r\\nfrom nbdev.showdoc import show_doc',\n",
       " 'outputs': [{'output_type': 'error',\n",
       "   'ename': 'SyntaxError',\n",
       "   'evalue': 'invalid syntax (export.py, line 25)',\n",
       "   'traceback': ['Traceback \\x1b[1;36m(most recent call last)\\x1b[0m:\\n',\n",
       "    '  File \\x1b[0;32m\"C:\\\\Users\\\\david\\\\anaconda3\\\\envs\\\\sctraining_env\\\\lib\\\\site-packages\\\\IPython\\\\core\\\\interactiveshell.py\"\\x1b[0m, line \\x1b[0;32m3441\\x1b[0m, in \\x1b[0;35mrun_code\\x1b[0m\\n    exec(code_obj, self.user_global_ns, self.user_ns)\\n',\n",
       "    '  File \\x1b[0;32m\"<ipython-input-1-f048ca53a696>\"\\x1b[0m, line \\x1b[0;32m4\\x1b[0m, in \\x1b[0;35m<module>\\x1b[0m\\n    from nbdev.showdoc import show_doc\\n',\n",
       "    '  File \\x1b[0;32m\"c:\\\\users\\\\david\\\\documents\\\\pypackages\\\\my_nbdev\\\\nbdev\\\\nbdev\\\\__init__.py\"\\x1b[0m, line \\x1b[0;32m7\\x1b[0m, in \\x1b[0;35m<module>\\x1b[0m\\n    from .showdoc import show_doc\\n',\n",
       "    '\\x1b[1;36m  File \\x1b[1;32m\"c:\\\\users\\\\david\\\\documents\\\\pypackages\\\\my_nbdev\\\\nbdev\\\\nbdev\\\\showdoc.py\"\\x1b[1;36m, line \\x1b[1;32m9\\x1b[1;36m, in \\x1b[1;35m<module>\\x1b[1;36m\\x1b[0m\\n\\x1b[1;33m    from .export import *\\x1b[0m\\n',\n",
       "    '\\x1b[1;36m  File \\x1b[1;32m\"c:\\\\users\\\\david\\\\documents\\\\pypackages\\\\my_nbdev\\\\nbdev\\\\nbdev\\\\export.py\"\\x1b[1;36m, line \\x1b[1;32m25\\x1b[0m\\n\\x1b[1;33m    <<<<<<< HEAD\\x1b[0m\\n\\x1b[1;37m    ^\\x1b[0m\\n\\x1b[1;31mSyntaxError\\x1b[0m\\x1b[1;31m:\\x1b[0m invalid syntax\\n']}],\n",
       " 'metadata': {'hide_input': False}}"
      ]
     },
     "execution_count": null,
     "metadata": {},
     "output_type": "execute_result"
    }
   ],
   "source": [
    "test_nb['cells'][0]"
   ]
  },
  {
   "cell_type": "markdown",
   "metadata": {},
   "source": [
    "### Finding patterns"
   ]
  },
  {
   "cell_type": "markdown",
   "metadata": {},
   "source": [
    "The following functions are used to catch the flags used in the code cells."
   ]
  },
  {
   "cell_type": "code",
   "execution_count": null,
   "metadata": {},
   "outputs": [],
   "source": [
    "#export\r\n",
    "def check_re(cell, pat, code_only=True):\r\n",
    "    \"Check if `cell` contains a line with regex `pat`\"\r\n",
    "    if code_only and cell['cell_type'] != 'code': return\r\n",
    "    if isinstance(pat, str): pat = re.compile(pat, re.IGNORECASE | re.MULTILINE)\r\n",
    "    cell_source = cell['source'].replace('\\r', '') # Eliminates the \\r\\n bug\r\n",
    "    result = pat.search(cell_source)\r\n",
    "    return result"
   ]
  },
  {
   "cell_type": "markdown",
   "metadata": {},
   "source": [
    "`pat` can be a string or a compiled regex. If `code_only=True`, this function ignores non-code cells, such as markdown."
   ]
  },
  {
   "cell_type": "code",
   "execution_count": null,
   "metadata": {},
   "outputs": [],
   "source": [
    "cell = test_nb['cells'][1].copy()\r\n",
    "assert check_re(cell, '#export') is not None\r\n",
    "assert check_re(cell, re.compile('#export')) is not None\r\n",
    "assert check_re(cell, '# bla') is None\r\n",
    "cell['cell_type'] = 'markdown'\r\n",
    "assert check_re(cell, '#export') is None\r\n",
    "assert check_re(cell, '#export', code_only=False) is not None"
   ]
  },
  {
   "cell_type": "code",
   "execution_count": null,
   "metadata": {},
   "outputs": [],
   "source": [
    "#export\r\n",
    "def check_re_multi(cell, pats, code_only=True):\r\n",
    "    \"Check if `cell` contains a line matching any regex in `pats`, returning the first match found\"\r\n",
    "    return L(pats).map_first(partial(check_re, cell, code_only=code_only))"
   ]
  },
  {
   "cell_type": "code",
   "execution_count": null,
   "metadata": {},
   "outputs": [],
   "source": [
    "cell = test_nb['cells'][0].copy()\r\n",
    "cell['source'] = \"a b c\"\r\n",
    "assert check_re(cell, 'a') is not None\r\n",
    "assert check_re(cell, 'd') is None\r\n",
    "# show that searching with patterns ['d','b','a'] will match 'b'\r\n",
    "# i.e. 'd' is not found and we don't search for 'a'\r\n",
    "assert check_re_multi(cell, ['d','b','a']).span() == (2,3)"
   ]
  },
  {
   "cell_type": "code",
   "execution_count": null,
   "metadata": {},
   "outputs": [],
   "source": [
    "#export\r\n",
    "def _mk_flag_re(body, n_params, comment):\r\n",
    "    \"Compiles a regex for finding nbdev flags\"\r\n",
    "    assert body!=True, 'magics no longer supported'\r\n",
    "    prefix = r\"\\s*\\#\\s*\"\r\n",
    "    param_group = \"\"\r\n",
    "    if n_params == -1: param_group = r\"[ \\t]+(.+)\"\r\n",
    "    if n_params == 1: param_group = r\"[ \\t]+(\\S+)\"\r\n",
    "    if n_params == (0,1): param_group = r\"(?:[ \\t]+(\\S+))?\"\r\n",
    "    return re.compile(rf\"\"\"\r\n",
    "# {comment}:\r\n",
    "^            # beginning of line (since re.MULTILINE is passed)\r\n",
    "{prefix}\r\n",
    "{body}\r\n",
    "{param_group}\r\n",
    "[ \\t]*       # any number of spaces and/or tabs\r\n",
    "$            # end of line (since re.MULTILINE is passed)\r\n",
    "\"\"\", re.MULTILINE | re.VERBOSE)"
   ]
  },
  {
   "cell_type": "markdown",
   "metadata": {},
   "source": [
    "This function returns a regex object that can be used to find nbdev flags in multiline text\n",
    "- `body` regex fragment to match one or more flags,\n",
    "- `n_params` number of flag parameters to match and catch (-1 for any number of params; `(0,1)` for 0 for 1 params),\n",
    "- `comment` explains what the compiled regex should do."
   ]
  },
  {
   "cell_type": "code",
   "execution_count": null,
   "metadata": {},
   "outputs": [],
   "source": [
    "#hide\r\n",
    "re_blank_test = _mk_flag_re('export[si]?', 0, \"test\")\r\n",
    "re_mod_test = _mk_flag_re('export[si]?', 1, \"test\")\r\n",
    "re_opt_test = _mk_flag_re('export[si]?', (0,1), \"test\")\r\n",
    "for f in ['export', 'exports', 'exporti']:\r\n",
    "    cell = nbformat.v4.new_code_cell(f'#{f}  \\n some code')\r\n",
    "    assert check_re(cell, re_blank_test) is not None\r\n",
    "    assert check_re(cell, re_mod_test) is None\r\n",
    "    assert check_re(cell, re_opt_test) is not None\r\n",
    "    test_eq(check_re(cell, re_opt_test).groups()[0], None)\r\n",
    "    cell.source = f'#{f} special.module \\n some code'\r\n",
    "    assert check_re(cell, re_blank_test) is None\r\n",
    "    assert check_re(cell, re_mod_test) is not None\r\n",
    "    test_eq(check_re(cell, re_mod_test).groups()[0], 'special.module')\r\n",
    "    assert check_re(cell, re_opt_test) is not None\r\n",
    "    test_eq(check_re(cell, re_opt_test).groups()[0], 'special.module')"
   ]
  },
  {
   "cell_type": "code",
   "execution_count": null,
   "metadata": {},
   "outputs": [],
   "source": [
    "#export\r\n",
    "_re_blank_export = _mk_flag_re(\"export[si]?\", 0,\r\n",
    "    \"Matches any line with #export, #exports or #exporti without any module name\")"
   ]
  },
  {
   "cell_type": "code",
   "execution_count": null,
   "metadata": {},
   "outputs": [],
   "source": [
    "#export\r\n",
    "_re_mod_export = _mk_flag_re(\"export[si]?\", 1,\r\n",
    "    \"Matches any line with #export, #exports or #exporti with a module name and catches it in group 1\")"
   ]
  },
  {
   "cell_type": "code",
   "execution_count": null,
   "metadata": {},
   "outputs": [],
   "source": [
    "#export\r\n",
    "_re_internal_export = _mk_flag_re(\"exporti\", (0,1),\r\n",
    "    \"Matches any line with #exporti with or without a module name\")"
   ]
  },
  {
   "cell_type": "code",
   "execution_count": null,
   "metadata": {},
   "outputs": [],
   "source": [
    "#exporti\r\n",
    "def _is_external_export(tst):\r\n",
    "    \"Check if a cell is an external or internal export. `tst` is an re match\"\r\n",
    "    return _re_internal_export.search(tst.string) is None"
   ]
  },
  {
   "cell_type": "code",
   "execution_count": null,
   "metadata": {},
   "outputs": [],
   "source": [
    "#export\r\n",
    "def is_export(cell, default):\r\n",
    "    \"Check if `cell` is to be exported and returns the name of the module to export it if provided\"\r\n",
    "    tst = check_re(cell, _re_blank_export)\r\n",
    "    if tst:\r\n",
    "        if default is None:\r\n",
    "            print(f\"No export destination, ignored:\\n{cell['source']}\")\r\n",
    "        return default, _is_external_export(tst)\r\n",
    "    tst = check_re(cell, _re_mod_export)\r\n",
    "    if tst: return os.path.sep.join(tst.groups()[0].split('.')), _is_external_export(tst)\r\n",
    "    else: return None"
   ]
  },
  {
   "cell_type": "markdown",
   "metadata": {},
   "source": [
    "`is_export` returns;\n",
    "- a tuple of (\"module name\", \"external boolean\" (`False` for an internal export)) if `cell` is to be exported or \n",
    "- `None` if `cell` will not be exported.\n",
    "\n",
    "The cells to export are marked with `#export`/`#exporti`/`#exports`, potentially with a module name where we want it exported. The default module is given in a cell of the form `#default_exp bla` inside the notebook (usually at the top), though in this function, it needs the be passed (the final script will read the whole notebook to find it).\n",
    "- a cell marked with `#export`/`#exporti`/`#exports` will be exported to the default module\n",
    "- an exported cell marked with `special.module` appended will be exported in `special.module` (located in `lib_name/special/module.py`)\n",
    "- a cell marked with `#export` will have its signature added to the documentation\n",
    "- a cell marked with `#exports` will additionally have its source code added to the documentation\n",
    "- a cell marked with `#exporti` will not show up in the documentation, and will also not be added to `__all__`."
   ]
  },
  {
   "cell_type": "code",
   "execution_count": null,
   "metadata": {},
   "outputs": [],
   "source": [
    "cell = test_nb['cells'][1].copy()\r\n",
    "test_eq(is_export(cell, 'export'), ('export', True))\r\n",
    "cell['source'] = \"# exports\"\r\n",
    "test_eq(is_export(cell, 'export'), ('export', True))\r\n",
    "cell['source'] = \"# exporti\"\r\n",
    "test_eq(is_export(cell, 'export'), ('export', False))\r\n",
    "cell['source'] = \"# export mod\"\r\n",
    "test_eq(is_export(cell, 'export'), ('mod', True))"
   ]
  },
  {
   "cell_type": "code",
   "execution_count": null,
   "metadata": {},
   "outputs": [],
   "source": [
    "#hide\r\n",
    "cell['source'] = \"# export mod.file\"\r\n",
    "test_eq(is_export(cell, 'export'), (f'mod{os.path.sep}file', True))\r\n",
    "cell['source'] = \"# exporti mod.file\"\r\n",
    "test_eq(is_export(cell, 'export'), (f'mod{os.path.sep}file', False))\r\n",
    "cell['source'] = \"# expt mod.file\"\r\n",
    "assert is_export(cell, 'export') is None\r\n",
    "cell['source'] = \"# exportmod.file\"\r\n",
    "assert is_export(cell, 'export') is None\r\n",
    "cell['source'] = \"# exportsmod.file\"\r\n",
    "assert is_export(cell, 'export') is None\r\n",
    "cell['source'] = \"# exporti mod file\"\r\n",
    "assert is_export(cell, 'export') is None"
   ]
  },
  {
   "cell_type": "code",
   "execution_count": null,
   "metadata": {},
   "outputs": [],
   "source": [
    "#export\r\n",
    "_re_default_exp = _mk_flag_re('default_exp', 1, \"Matches any line with #default_exp with a module name\")"
   ]
  },
  {
   "cell_type": "code",
   "execution_count": null,
   "metadata": {},
   "outputs": [],
   "source": [
    "#export\r\n",
    "def find_default_export(cells):\r\n",
    "    \"Find in `cells` the default export module.\"\r\n",
    "    res = L(cells).map_first(check_re, pat=_re_default_exp)\r\n",
    "    return res.groups()[0] if res else None"
   ]
  },
  {
   "cell_type": "markdown",
   "metadata": {},
   "source": [
    "Stops at the first cell containing `# default_exp` (if there are several) and returns the value behind. Returns `None` if there are no cell with that code."
   ]
  },
  {
   "cell_type": "code",
   "execution_count": null,
   "metadata": {},
   "outputs": [],
   "source": [
    "test_eq(find_default_export(test_nb['cells']), 'export')\r\n",
    "assert find_default_export(test_nb['cells'][2:]) is None"
   ]
  },
  {
   "cell_type": "code",
   "execution_count": null,
   "metadata": {},
   "outputs": [],
   "source": [
    "#hide\r\n",
    "mods = [f'mod{i}' for i in range(3)]\r\n",
    "cells = [{'cell_type': 'code', 'source': f'#default_exp {mod}'} for mod in mods]\r\n",
    "for i, mod in enumerate(mods): test_eq(mod, find_default_export(cells[i:]))"
   ]
  },
  {
   "cell_type": "markdown",
   "metadata": {},
   "source": [
    "### Listing all exported objects"
   ]
  },
  {
   "cell_type": "markdown",
   "metadata": {},
   "source": [
    "The following functions make a list of everything that is exported to prepare a proper `__all__` for our exported module."
   ]
  },
  {
   "cell_type": "code",
   "execution_count": null,
   "metadata": {},
   "outputs": [],
   "source": [
    "#export\r\n",
    "_re_patch_func = re.compile(r\"\"\"\r\n",
    "# Catches any function decorated with @patch, its name in group 1 and the patched class in group 2\r\n",
    "@patch         # At any place in the cell, something that begins with @patch\r\n",
    "(?:\\s*@.*)*    # Any other decorator applied to the function\r\n",
    "\\s*def         # Any number of whitespace (including a new line probably) followed by def\r\n",
    "\\s+            # One whitespace or more\r\n",
    "([^\\(\\s]+)     # Catch a group composed of anything but whitespace or an opening parenthesis (name of the function)\r\n",
    "\\s*\\(          # Any number of whitespace followed by an opening parenthesis\r\n",
    "[^:]*          # Any number of character different of : (the name of the first arg that is type-annotated)\r\n",
    ":\\s*           # A column followed by any number of whitespace\r\n",
    "(?:            # Non-catching group with either\r\n",
    "([^,\\s\\(\\)]*)  #    a group composed of anything but a comma, a parenthesis or whitespace (name of the class)\r\n",
    "|              #  or\r\n",
    "(\\([^\\)]*\\)))  #    a group composed of something between parenthesis (tuple of classes)\r\n",
    "\\s*            # Any number of whitespace\r\n",
    "(?:,|\\))       # Non-catching group with either a comma or a closing parenthesis\r\n",
    "\"\"\", re.VERBOSE)"
   ]
  },
  {
   "cell_type": "code",
   "execution_count": null,
   "metadata": {},
   "outputs": [
    {
     "data": {
      "text/plain": [
       "(<re.Match object; span=(1, 42), match='@patch\\n@log_args(a=1)\\ndef func(obj:Class)'>,\n",
       " ('func', 'Class', None))"
      ]
     },
     "execution_count": null,
     "metadata": {},
     "output_type": "execute_result"
    }
   ],
   "source": [
    "tst = _re_patch_func.search(\"\"\"\r\n",
    "@patch\r\n",
    "@log_args(a=1)\r\n",
    "def func(obj:Class):\"\"\")\r\n",
    "tst, tst.groups()"
   ]
  },
  {
   "cell_type": "code",
   "execution_count": null,
   "metadata": {},
   "outputs": [],
   "source": [
    "#hide\r\n",
    "tst = _re_patch_func.search(\"\"\"\r\n",
    "@patch\r\n",
    "def func(obj:Class):\"\"\")\r\n",
    "test_eq(tst.groups(), (\"func\", \"Class\", None))\r\n",
    "tst = _re_patch_func.search(\"\"\"\r\n",
    "@patch\r\n",
    "def func (obj:Class, a)\"\"\")\r\n",
    "test_eq(tst.groups(), (\"func\", \"Class\", None))\r\n",
    "tst = _re_patch_func.search(\"\"\"\r\n",
    "@patch\r\n",
    "def func (obj:(Class1, Class2), a)\"\"\")\r\n",
    "test_eq(tst.groups(), (\"func\", None, \"(Class1, Class2)\"))\r\n",
    "tst = _re_patch_func.search(\"\"\"\r\n",
    "@patch\r\n",
    "def func (obj:(Class1, Class2), a:int)->int:\"\"\")\r\n",
    "test_eq(tst.groups(), (\"func\", None, \"(Class1, Class2)\"))\r\n",
    "tst = _re_patch_func.search(\"\"\"\r\n",
    "@patch\r\n",
    "@log_args(but='a,b')\r\n",
    "@funcs_kwargs\r\n",
    "def func (obj:(Class1, Class2), a:int)->int:\"\"\")\r\n",
    "test_eq(tst.groups(), (\"func\", None, \"(Class1, Class2)\"))\r\n",
    "tst = _re_patch_func.search(\"\"\"\r\n",
    "@patch\r\n",
    "@contextmanager\r\n",
    "def func (obj:Class, a:int)->int:\"\"\")\r\n",
    "test_eq(tst.groups(), (\"func\", \"Class\", None))"
   ]
  },
  {
   "cell_type": "code",
   "execution_count": null,
   "metadata": {},
   "outputs": [],
   "source": [
    "#export\r\n",
    "_re_typedispatch_func = re.compile(r\"\"\"\r\n",
    "# Catches any function decorated with @typedispatch\r\n",
    "(@typedispatch  # At any place in the cell, catch a group with something that begins with @typedispatch\r\n",
    "\\s*def          # Any number of whitespace (including a new line probably) followed by def\r\n",
    "\\s+             # One whitespace or more\r\n",
    "[^\\(]+          # Anything but whitespace or an opening parenthesis (name of the function)\r\n",
    "\\s*\\(           # Any number of whitespace followed by an opening parenthesis\r\n",
    "[^\\)]*          # Any number of character different of )\r\n",
    "\\)[\\s\\S]*:)     # A closing parenthesis followed by any number of characters and whitespace (type annotation) and :\r\n",
    "\"\"\", re.VERBOSE)"
   ]
  },
  {
   "cell_type": "code",
   "execution_count": null,
   "metadata": {},
   "outputs": [],
   "source": [
    "#hide\r\n",
    "assert _re_typedispatch_func.search(\"@typedispatch\\ndef func(a, b):\").groups() == ('@typedispatch\\ndef func(a, b):',)\r\n",
    "assert (_re_typedispatch_func.search(\"@typedispatch\\ndef func(a:str, b:bool)->int:\").groups() ==\r\n",
    "                                    ('@typedispatch\\ndef func(a:str, b:bool)->int:',))"
   ]
  },
  {
   "cell_type": "code",
   "execution_count": null,
   "metadata": {},
   "outputs": [],
   "source": [
    "#export\r\n",
    "_re_class_func_def = re.compile(r\"\"\"\r\n",
    "# Catches any 0-indented function or class definition with its name in group 1\r\n",
    "^              # Beginning of a line (since re.MULTILINE is passed)\r\n",
    "(?:async\\sdef|def|class)  # Non-catching group for def or class\r\n",
    "\\s+            # One whitespace or more\r\n",
    "([^\\(\\s]+)     # Catching group with any character except an opening parenthesis or a whitespace (name)\r\n",
    "\\s*            # Any number of whitespace\r\n",
    "(?:\\(|:)       # Non-catching group with either an opening parenthesis or a : (classes don't need ())\r\n",
    "\"\"\", re.MULTILINE | re.VERBOSE)"
   ]
  },
  {
   "cell_type": "code",
   "execution_count": null,
   "metadata": {},
   "outputs": [],
   "source": [
    "#hide\r\n",
    "test_eq(_re_class_func_def.search(\"class Class:\").groups(), ('Class',))\r\n",
    "test_eq(_re_class_func_def.search(\"def func(a, b):\").groups(), ('func',))\r\n",
    "test_eq(_re_class_func_def.search(\"def func(a:str, b:bool)->int:\").groups(), ('func',))\r\n",
    "test_eq(_re_class_func_def.search(\"async def func(a, b):\").groups(), ('func',))"
   ]
  },
  {
   "cell_type": "code",
   "execution_count": null,
   "metadata": {},
   "outputs": [],
   "source": [
    "#export\r\n",
    "_re_obj_def = re.compile(r\"\"\"\r\n",
    "# Catches any 0-indented object definition (bla = thing) with its name in group 1\r\n",
    "^                          # Beginning of a line (since re.MULTILINE is passed)\r\n",
    "([_a-zA-Z]+[a-zA-Z0-9_\\.]*)  # Catch a group which is a valid python variable name\r\n",
    "\\s*                        # Any number of whitespace\r\n",
    "(?::\\s*\\S.*|)=  # Non-catching group of either a colon followed by a type annotation, or nothing; followed by an =\r\n",
    "\"\"\", re.MULTILINE | re.VERBOSE)"
   ]
  },
  {
   "cell_type": "code",
   "execution_count": null,
   "metadata": {},
   "outputs": [],
   "source": [
    "#hide\r\n",
    "test_eq(_re_obj_def.search(\"a = 1\").groups(), ('a',))\r\n",
    "test_eq(_re_obj_def.search(\"a.b = 1\").groups(), ('a.b',))\r\n",
    "test_eq(_re_obj_def.search(\"_aA1=1\").groups(), ('_aA1',))\r\n",
    "test_eq(_re_obj_def.search(\"a : int =1\").groups(), ('a',))\r\n",
    "test_eq(_re_obj_def.search(\"a:f(':=')=1\").groups(), ('a',))\r\n",
    "assert _re_obj_def.search(\"@abc=2\") is None\r\n",
    "assert _re_obj_def.search(\"a a=2\") is None"
   ]
  },
  {
   "cell_type": "code",
   "execution_count": null,
   "metadata": {},
   "outputs": [],
   "source": [
    "#export\r\n",
    "def _not_private(n):\r\n",
    "    for t in n.split('.'):\r\n",
    "        if (t.startswith('_') and not t.startswith('__')) or t.startswith('@'): return False\r\n",
    "    return '\\\\' not in t and '^' not in t and '[' not in t and t != 'else'\r\n",
    "\r\n",
    "def export_names(code, func_only=False):\r\n",
    "    \"Find the names of the objects, functions or classes defined in `code` that are exported.\"\r\n",
    "    #Format monkey-patches with @patch\r\n",
    "    def _f(gps):\r\n",
    "        nm, cls, t = gps.groups()\r\n",
    "        if cls is not None: return f\"def {cls}.{nm}():\"\r\n",
    "        return '\\n'.join([f\"def {c}.{nm}():\" for c in re.split(', *', t[1:-1])])\r\n",
    "\r\n",
    "    code = _re_typedispatch_func.sub('', code)\r\n",
    "    code = _re_patch_func.sub(_f, code)\r\n",
    "    names = _re_class_func_def.findall(code)\r\n",
    "    if not func_only: names += _re_obj_def.findall(code)\r\n",
    "    return [n for n in names if _not_private(n) and not iskeyword(n)]"
   ]
  },
  {
   "cell_type": "markdown",
   "metadata": {},
   "source": [
    "This function only picks the zero-indented objects on the left side of an =, functions or classes (we don't want the class methods for instance) and excludes private names (that begin with `_`) but no dunder names. It only returns func and class names (not the objects) when `func_only=True`. \n",
    "\n",
    "To work properly with fastai added python functionality, this function ignores function decorated with `@typedispatch` (since they are defined multiple times) and unwraps properly functions decorated with `@patch`."
   ]
  },
  {
   "cell_type": "code",
   "execution_count": null,
   "metadata": {},
   "outputs": [],
   "source": [
    "test_eq(export_names(\"def my_func(x):\\n  pass\\nclass MyClass():\"), [\"my_func\", \"MyClass\"])"
   ]
  },
  {
   "cell_type": "code",
   "execution_count": null,
   "metadata": {},
   "outputs": [],
   "source": [
    "#hide\r\n",
    "#Indented funcs are ignored (funcs inside a class)\r\n",
    "test_eq(export_names(\"  def my_func(x):\\n  pass\\nclass MyClass():\"), [\"MyClass\"])\r\n",
    "\r\n",
    "#Private funcs are ignored, dunder are not\r\n",
    "test_eq(export_names(\"def _my_func():\\n  pass\\nclass MyClass():\"), [\"MyClass\"])\r\n",
    "test_eq(export_names(\"__version__ = 1:\\n  pass\\nclass MyClass():\"), [\"MyClass\", \"__version__\"])\r\n",
    "\r\n",
    "#trailing spaces\r\n",
    "test_eq(export_names(\"def my_func ():\\n  pass\\nclass MyClass():\"), [\"my_func\", \"MyClass\"])\r\n",
    "\r\n",
    "#class without parenthesis\r\n",
    "test_eq(export_names(\"def my_func ():\\n  pass\\nclass MyClass:\"), [\"my_func\", \"MyClass\"])\r\n",
    "\r\n",
    "#object and funcs\r\n",
    "test_eq(export_names(\"def my_func ():\\n  pass\\ndefault_bla=[]:\"), [\"my_func\", \"default_bla\"])\r\n",
    "test_eq(export_names(\"def my_func ():\\n  pass\\ndefault_bla=[]:\", func_only=True), [\"my_func\"])\r\n",
    "\r\n",
    "#Private objects are ignored\r\n",
    "test_eq(export_names(\"def my_func ():\\n  pass\\n_default_bla = []:\"), [\"my_func\"])\r\n",
    "\r\n",
    "#Objects with dots are privates if one part is private\r\n",
    "test_eq(export_names(\"def my_func ():\\n  pass\\ndefault.bla = []:\"), [\"my_func\", \"default.bla\"])\r\n",
    "test_eq(export_names(\"def my_func ():\\n  pass\\ndefault._bla = []:\"), [\"my_func\"])\r\n",
    "\r\n",
    "#Monkey-path with @patch are properly renamed\r\n",
    "test_eq(export_names(\"@patch\\ndef my_func(x:Class):\\n  pass\"), [\"Class.my_func\"])\r\n",
    "test_eq(export_names(\"@patch\\ndef my_func(x:Class):\\n  pass\", func_only=True), [\"Class.my_func\"])\r\n",
    "test_eq(export_names(\"some code\\n@patch\\ndef my_func(x:Class, y):\\n  pass\"), [\"Class.my_func\"])\r\n",
    "test_eq(export_names(\"some code\\n@patch\\ndef my_func(x:(Class1,Class2), y):\\n  pass\"), [\"Class1.my_func\", \"Class2.my_func\"])\r\n",
    "\r\n",
    "#Check delegates\r\n",
    "test_eq(export_names(\"@delegates(keep=True)\\nclass someClass:\\n  pass\"), [\"someClass\"])\r\n",
    "\r\n",
    "#Typedispatch decorated functions shouldn't be added\r\n",
    "test_eq(export_names(\"@patch\\ndef my_func(x:Class):\\n  pass\\n@typedispatch\\ndef func(x: TensorImage): pass\"), [\"Class.my_func\"])\r\n",
    "\r\n",
    "#try, except and other keywords should not be picked up (these can look like object def with type annotation)\r\n",
    "test_eq(export_names(\"try:\\n    a=1\\nexcept:\\n    b=2\"), [])\r\n",
    "test_eq(export_names(\"try:\\n    this_might_work\\nexcept:\\n    b=2\"), [])"
   ]
  },
  {
   "cell_type": "code",
   "execution_count": null,
   "metadata": {},
   "outputs": [],
   "source": [
    "#export\r\n",
    "_re_all_def   = re.compile(r\"\"\"\r\n",
    "# Catches a cell with defines \\_all\\_ = [\\*\\*] and get that \\*\\* in group 1\r\n",
    "^_all_   #  Beginning of line (since re.MULTILINE is passed)\r\n",
    "\\s*=\\s*  #  Any number of whitespace, =, any number of whitespace\r\n",
    "\\[       #  Opening [\r\n",
    "([^\\n\\]]*) #  Catching group with anything except a ] or newline\r\n",
    "\\]       #  Closing ]\r\n",
    "\"\"\", re.MULTILINE | re.VERBOSE)\r\n",
    "\r\n",
    "#Same with __all__\r\n",
    "_re__all__def = re.compile(r'^__all__\\s*=\\s*\\[([^\\]]*)\\]', re.MULTILINE)"
   ]
  },
  {
   "cell_type": "code",
   "execution_count": null,
   "metadata": {},
   "outputs": [],
   "source": [
    "#export\r\n",
    "def extra_add(flags, code):\r\n",
    "    \"Catch adds to `__all__` required by a cell with `_all_=`\"\r\n",
    "    m = check_re({'source': code}, _re_all_def, False)\r\n",
    "    if m:\r\n",
    "        code = m.re.sub('#nbdev_' + 'comment \\g<0>', code)\r\n",
    "        code = re.sub(r'([^\\n]|^)\\n*$', r'\\1', code)\r\n",
    "    if not m: return [], code\r\n",
    "    def clean_quotes(s):\r\n",
    "        \"Return `s` enclosed in single quotes, removing double quotes if needed\"\r\n",
    "        if s.startswith(\"'\") and s.endswith(\"'\"): return s\r\n",
    "        if s.startswith('\"') and s.endswith('\"'): s = s[1:-1]\r\n",
    "        return f\"'{s}'\"\r\n",
    "    return [clean_quotes(s) for s in parse_line(m.group(1))], code"
   ]
  },
  {
   "cell_type": "markdown",
   "metadata": {},
   "source": [
    "Sometimes objects are not picked to be automatically added to the `__all__` of the module so you will need to add them manually. To do so, create an exported cell with the following code `_all_ = [\"name\", \"name2\"]`"
   ]
  },
  {
   "cell_type": "code",
   "execution_count": null,
   "metadata": {},
   "outputs": [],
   "source": [
    "#hide\r\n",
    "for code, expected in [\r\n",
    "        ['_all_ = [\"func\", \"func1\", \"func2\"]', \r\n",
    "         ([\"'func'\", \"'func1'\", \"'func2'\"],'#nbdev_comment _all_ = [\"func\", \"func1\", \"func2\"]')],\r\n",
    "        ['_all_=[func, func1, func2]', \r\n",
    "         ([\"'func'\", \"'func1'\", \"'func2'\"],'#nbdev_comment _all_=[func, func1, func2]')],\r\n",
    "        [\"_all_ = ['func', 'func1', 'func2']\", \r\n",
    "         ([\"'func'\", \"'func1'\", \"'func2'\"],\"#nbdev_comment _all_ = ['func', 'func1', 'func2']\")],\r\n",
    "        ['_all_ = [\"func\",   \"func1\" , \"func2\"]', \r\n",
    "         ([\"'func'\", \"'func1'\", \"'func2'\"],'#nbdev_comment _all_ = [\"func\",   \"func1\" , \"func2\"]')],\r\n",
    "        [\"_all_ = ['func','func1', 'func2']\\n\", \r\n",
    "         ([\"'func'\", \"'func1'\", \"'func2'\"],\"#nbdev_comment _all_ = ['func','func1', 'func2']\")],\r\n",
    "        [\"_all_ = ['func']\\n_all_ = ['func1', 'func2']\\n\", \r\n",
    "         ([\"'func'\"],\"#nbdev_comment _all_ = ['func']\\n#nbdev_comment _all_ = ['func1', 'func2']\")],\r\n",
    "        ['code\\n\\n_all_ = [\"func\", \"func1\", \"func2\"]', \r\n",
    "         ([\"'func'\", \"'func1'\", \"'func2'\"],'code\\n\\n#nbdev_comment _all_ = [\"func\", \"func1\", \"func2\"]')],\r\n",
    "        ['code\\n\\n_all_ = [func]\\nmore code', \r\n",
    "         ([\"'func'\"],'code\\n\\n#nbdev_comment _all_ = [func]\\nmore code')]]:\r\n",
    "    test_eq(extra_add('', code), expected)\r\n",
    "    \r\n",
    "# line breaks within the list of names means _all_ is ignored\r\n",
    "test_eq(extra_add('', \"_all_ = ['func',\\n'func1', 'func2']\\n\"), ([],\"_all_ = ['func',\\n'func1', 'func2']\\n\"))"
   ]
  },
  {
   "cell_type": "code",
   "execution_count": null,
   "metadata": {},
   "outputs": [],
   "source": [
    "#export\r\n",
    "_re_from_future_import = re.compile(r\"^from[ \\t]+__future__[ \\t]+import.*$\", re.MULTILINE)\r\n",
    "\r\n",
    "def _from_future_import(fname, flags, code, to_dict=None):\r\n",
    "    \"Write `__future__` imports to `fname` and return `code` with `__future__` imports commented out\"\r\n",
    "    from_future_imports = _re_from_future_import.findall(code)\r\n",
    "    if from_future_imports: code = _re_from_future_import.sub('#nbdev' + '_comment \\g<0>', code)\r\n",
    "    else: from_future_imports = _re_from_future_import.findall(flags)\r\n",
    "    if not from_future_imports or to_dict is not None: return code\r\n",
    "    with open(fname, 'r', encoding='utf8') as f: text = f.read()\r\n",
    "    start = _re__all__def.search(text).start()\r\n",
    "    with open(fname, 'w', encoding='utf8') as f:\r\n",
    "        f.write('\\n'.join([text[:start], *from_future_imports, '\\n', text[start:]]))\r\n",
    "    return code"
   ]
  },
  {
   "cell_type": "markdown",
   "metadata": {},
   "source": [
    "If you need a `from __future__ import` in your library, you can export your cell with special comments:\n",
    "\n",
    "```python\n",
    "#export\n",
    "from __future__ import annotations\n",
    "class ...\n",
    "```\n",
    "\n",
    "Notice that `#export` is after the `__future__` import. Because `__future__` imports must occur at the beginning of the file, nbdev allows `__future__` imports in the flags section of a cell."
   ]
  },
  {
   "cell_type": "code",
   "execution_count": null,
   "metadata": {},
   "outputs": [],
   "source": [
    "#hide\r\n",
    "txt = \"\"\"\r\n",
    "# AUTOHEADER ... File to edit: mod.ipynb (unless otherwise specified).\r\n",
    "\r\n",
    "__all__ = [my_file, MyClas]\r\n",
    "# Cell\r\n",
    "def valid_code(): pass\"\"\"\r\n",
    "expected_txt = \"\"\"\r\n",
    "# AUTOHEADER ... File to edit: mod.ipynb (unless otherwise specified).\r\n",
    "\r\n",
    "\r\n",
    "from  __future__ import  annotations    \r\n",
    "from __future__ import generator_stop\r\n",
    "\r\n",
    "\r\n",
    "__all__ = [my_file, MyClas]\r\n",
    "# Cell\r\n",
    "def valid_code(): pass\"\"\"\r\n",
    "flags=\"# export\"\r\n",
    "code = \"\"\"\r\n",
    "# comment\r\n",
    "from  __future__ import  annotations    \r\n",
    "valid_code = False # but _from_future_import will work anyway\r\n",
    "from __future__ import generator_stop\r\n",
    " from __future__ import not_zero_indented\r\n",
    "valid_code = True\r\n",
    "\"\"\"\r\n",
    "expected_code = \"\"\"\r\n",
    "# comment\r\n",
    "#nbdev_comment from  __future__ import  annotations    \r\n",
    "valid_code = False # but _from_future_import will work anyway\r\n",
    "#nbdev_comment from __future__ import generator_stop\r\n",
    " from __future__ import not_zero_indented\r\n",
    "valid_code = True\r\n",
    "\"\"\""
   ]
  },
  {
   "cell_type": "code",
   "execution_count": null,
   "metadata": {},
   "outputs": [],
   "source": [
    "def _run_from_future_import_test():\r\n",
    "    fname = 'test_from_future_import.txt'\r\n",
    "    with open(fname, 'w', encoding='utf8') as f: f.write(txt)\r\n",
    "\r\n",
    "    actual_code=_from_future_import(fname, flags, code, {})\r\n",
    "    test_eq(expected_code, actual_code)\r\n",
    "    with open(fname, 'r', encoding='utf8') as f: test_eq(f.read(), txt)\r\n",
    "\r\n",
    "    actual_code=_from_future_import(fname, flags, code)\r\n",
    "    test_eq(expected_code, actual_code)\r\n",
    "    with open(fname, 'r', encoding='utf8') as f: test_eq(f.read(), expected_txt)\r\n",
    "\r\n",
    "    os.remove(fname)\r\n",
    "\r\n",
    "_run_from_future_import_test()\r\n",
    "\r\n",
    "flags=\"\"\"from  __future__ import  annotations    \r\n",
    "from __future__ import generator_stop\r\n",
    "#export\"\"\"\r\n",
    "code = \"\"\r\n",
    "expected_code = \"\"\r\n",
    "fname = 'test_from_future_import.txt'\r\n",
    "\r\n",
    "_run_from_future_import_test()"
   ]
  },
  {
   "cell_type": "code",
   "execution_count": null,
   "metadata": {},
   "outputs": [],
   "source": [
    "#export\r\n",
    "def _add2all(fname, names, line_width=120):\r\n",
    "    if len(names) == 0: return\r\n",
    "    with open(fname, 'r', encoding='utf8') as f: text = f.read()\r\n",
    "    tw = TextWrapper(width=120, initial_indent='', subsequent_indent=' '*11, break_long_words=False)\r\n",
    "    re_all = _re__all__def.search(text)\r\n",
    "    start,end = re_all.start(),re_all.end()\r\n",
    "    text_all = tw.wrap(f\"{text[start:end-1]}{'' if text[end-2]=='[' else ', '}{', '.join(names)}]\")\r\n",
    "    with open(fname, 'w', encoding='utf8') as f: f.write(text[:start] + '\\n'.join(text_all) + text[end:])"
   ]
  },
  {
   "cell_type": "code",
   "execution_count": null,
   "metadata": {},
   "outputs": [],
   "source": [
    "#hide\r\n",
    "fname = 'test_add.txt'\r\n",
    "with open(fname, 'w', encoding='utf8') as f: f.write(\"Bla\\n__all__ = [my_file, MyClas]\\nBli\")\r\n",
    "_add2all(fname, ['new_function'])\r\n",
    "with open(fname, 'r', encoding='utf8') as f: \r\n",
    "    test_eq(f.read(), \"Bla\\n__all__ = [my_file, MyClas, new_function]\\nBli\")\r\n",
    "_add2all(fname, [f'new_function{i}' for i in range(10)])\r\n",
    "with open(fname, 'r', encoding='utf8') as f: \r\n",
    "    test_eq(f.read(), \"\"\"Bla\r\n",
    "__all__ = [my_file, MyClas, new_function, new_function0, new_function1, new_function2, new_function3, new_function4,\r\n",
    "           new_function5, new_function6, new_function7, new_function8, new_function9]\r\n",
    "Bli\"\"\")\r\n",
    "os.remove(fname)"
   ]
  },
  {
   "cell_type": "code",
   "execution_count": null,
   "metadata": {},
   "outputs": [],
   "source": [
    "#export\r\n",
    "def relative_import(name, fname):\r\n",
    "    \"Convert a module `name` to a name relative to `fname`\"\r\n",
    "    mods = name.split('.')\r\n",
    "    splits = str(fname).split(os.path.sep)\r\n",
    "    if mods[0] not in splits: return name\r\n",
    "    i=len(splits)-1\r\n",
    "    while i>0 and splits[i] != mods[0]: i-=1\r\n",
    "    splits = splits[i:]\r\n",
    "    while len(mods)>0 and splits[0] == mods[0]: splits,mods = splits[1:],mods[1:]\r\n",
    "    return '.' * (len(splits)) + '.'.join(mods)"
   ]
  },
  {
   "cell_type": "markdown",
   "metadata": {},
   "source": [
    "When we say from \n",
    "``` python\n",
    "from lib_name.module.submodule import bla\n",
    "``` \n",
    "in a notebook, it needs to be converted to something like \n",
    "```\n",
    "from .module.submodule import bla\n",
    "```\n",
    "or \n",
    "```from .submodule import bla``` \n",
    "depending on where we are. This function deals with those imports renaming.\n",
    "\n",
    "Note that import of the form\n",
    "```python\n",
    "import lib_name.module\n",
    "```\n",
    "are left as is as the syntax `import module` does not work for relative imports."
   ]
  },
  {
   "cell_type": "code",
   "execution_count": null,
   "metadata": {},
   "outputs": [],
   "source": [
    "test_eq(relative_import('nbdev.core', Path.cwd()/'nbdev'/'data.py'), '.core')\r\n",
    "test_eq(relative_import('nbdev.core', Path('nbdev')/'vision'/'data.py'), '..core')\r\n",
    "test_eq(relative_import('nbdev.vision.transform', Path('nbdev')/'vision'/'data.py'), '.transform')\r\n",
    "test_eq(relative_import('nbdev.notebook.core', Path('nbdev')/'data'/'external.py'), '..notebook.core')\r\n",
    "test_eq(relative_import('nbdev.vision', Path('nbdev')/'vision'/'learner.py'), '.')"
   ]
  },
  {
   "cell_type": "code",
   "execution_count": null,
   "metadata": {},
   "outputs": [],
   "source": [
    "#export\r\n",
    "_re_import = ReLibName(r'^(\\s*)from (LIB_NAME\\.\\S*) import (.*)$')"
   ]
  },
  {
   "cell_type": "code",
   "execution_count": null,
   "metadata": {},
   "outputs": [],
   "source": [
    "#export\r\n",
    "def _deal_import(code_lines, fname):\r\n",
    "    def _replace(m):\r\n",
    "        sp,mod,obj = m.groups()\r\n",
    "        return f\"{sp}from {relative_import(mod, fname)} import {obj}\"\r\n",
    "    return [_re_import.re.sub(_replace,line) for line in code_lines]"
   ]
  },
  {
   "cell_type": "code",
   "execution_count": null,
   "metadata": {},
   "outputs": [],
   "source": [
    "#hide\r\n",
    "lines = [\"from nbdev.core import *\", \r\n",
    "         \"nothing to see\", \r\n",
    "         \"  from nbdev.vision import bla1, bla2\", \r\n",
    "         \"from nbdev.vision import models\",\r\n",
    "         \"import nbdev.vision\"]\r\n",
    "test_eq(_deal_import(lines, Path.cwd()/'nbdev'/'data.py'), [\r\n",
    "    \"from .core import *\", \r\n",
    "    \"nothing to see\", \r\n",
    "    \"  from .vision import bla1, bla2\", \r\n",
    "    \"from .vision import models\",\r\n",
    "    \"import nbdev.vision\"\r\n",
    "])"
   ]
  },
  {
   "cell_type": "markdown",
   "metadata": {},
   "source": [
    "## Create the library"
   ]
  },
  {
   "cell_type": "markdown",
   "metadata": {},
   "source": [
    "### Saving an index"
   ]
  },
  {
   "cell_type": "markdown",
   "metadata": {},
   "source": [
    "To be able to build back a correspondence between functions and the notebooks they are defined in, we need to store an index. It's done in the private module <code>_nbdev</code> inside your library, and the following function are used to define it."
   ]
  },
  {
   "cell_type": "code",
   "execution_count": null,
   "metadata": {},
   "outputs": [],
   "source": [
    "#export\r\n",
    "_re_index_custom = re.compile(r'def custom_doc_links\\(name\\):(.*)$', re.DOTALL)"
   ]
  },
  {
   "cell_type": "code",
   "execution_count": null,
   "metadata": {},
   "outputs": [],
   "source": [
    "#export\r\n",
    "def reset_nbdev_module():\r\n",
    "    \"Create a skeleton for <code>_nbdev</code>\"\r\n",
    "    fname = Config().path(\"lib_path\")/'_nbdev.py'\r\n",
    "    fname.parent.mkdir(parents=True, exist_ok=True)\r\n",
    "    sep = '\\n'* (int(Config().get('cell_spacing', '1'))+1)\r\n",
    "    if fname.is_file():\r\n",
    "        with open(fname, 'r') as f: search = _re_index_custom.search(f.read())\r\n",
    "    else: search = None\r\n",
    "    prev_code = search.groups()[0] if search is not None else ' return None\\n'\r\n",
    "    with open(fname, 'w') as f:\r\n",
    "        f.write(f\"# AUTOGENERATED BY NBDEV! DO NOT EDIT!\")\r\n",
    "        f.write('\\n\\n__all__ = [\"index\", \"modules\", \"custom_doc_links\", \"git_url\"]')\r\n",
    "        f.write('\\n\\nindex = {}')\r\n",
    "        f.write('\\n\\nmodules = []')\r\n",
    "        f.write(f'\\n\\ndoc_url = \"{Config().doc_host}{Config().doc_baseurl}\"')\r\n",
    "        f.write(f'\\n\\ngit_url = \"{Config().git_url}\"')\r\n",
    "        f.write(f'{sep}def custom_doc_links(name):{prev_code}')"
   ]
  },
  {
   "cell_type": "code",
   "execution_count": null,
   "metadata": {},
   "outputs": [],
   "source": [
    "#export\r\n",
    "class _EmptyModule():\r\n",
    "    def __init__(self):\r\n",
    "        self.index,self.modules = {},[]\r\n",
    "        self.doc_url,self.git_url = f\"{Config().doc_host}{Config().doc_baseurl}\",Config().git_url\r\n",
    "\r\n",
    "    def custom_doc_links(self, name): return None"
   ]
  },
  {
   "cell_type": "code",
   "execution_count": null,
   "metadata": {},
   "outputs": [],
   "source": [
    "#export\r\n",
    "def get_nbdev_module():\r\n",
    "    \"Reads <code>_nbdev</code>\"\r\n",
    "    try:\r\n",
    "        spec = importlib.util.spec_from_file_location(f\"{Config().lib_name}._nbdev\", Config().path(\"lib_path\")/'_nbdev.py')\r\n",
    "        mod = importlib.util.module_from_spec(spec)\r\n",
    "        spec.loader.exec_module(mod)\r\n",
    "        return mod\r\n",
    "    except: return _EmptyModule()"
   ]
  },
  {
   "cell_type": "code",
   "execution_count": null,
   "metadata": {},
   "outputs": [],
   "source": [
    "#export\r\n",
    "_re_index_idx = re.compile(r'index\\s*=\\s*{[^}]*}')\r\n",
    "_re_index_mod = re.compile(r'modules\\s*=\\s*\\[[^\\]]*\\]')"
   ]
  },
  {
   "cell_type": "code",
   "execution_count": null,
   "metadata": {},
   "outputs": [],
   "source": [
    "#export\r\n",
    "def save_nbdev_module(mod):\r\n",
    "    \"Save `mod` inside <code>_nbdev</code>\"\r\n",
    "    fname = Config().path(\"lib_path\")/'_nbdev.py'\r\n",
    "    with open(fname, 'r') as f: code = f.read()\r\n",
    "    t = r',\\n         '.join([f'\"{k}\": \"{v}\"' for k,v in mod.index.items()])\r\n",
    "    code = _re_index_idx.sub(\"index = {\"+ t +\"}\", code)\r\n",
    "    t = r',\\n           '.join(['\"' + f.replace('\\\\','/') + '\"' for f in mod.modules])\r\n",
    "    code = _re_index_mod.sub(f\"modules = [{t}]\", code)\r\n",
    "    with open(fname, 'w') as f: f.write(code)"
   ]
  },
  {
   "cell_type": "code",
   "execution_count": null,
   "metadata": {},
   "outputs": [],
   "source": [
    "#hide\r\n",
    "ind,ind_bak = Config().path(\"lib_path\")/'_nbdev.py',Config().path(\"lib_path\")/'_nbdev.bak'\r\n",
    "if ind.exists(): shutil.move(ind, ind_bak)\r\n",
    "try:\r\n",
    "    reset_nbdev_module()\r\n",
    "    mod = get_nbdev_module()\r\n",
    "    test_eq(mod.index, {})\r\n",
    "    test_eq(mod.modules, [])\r\n",
    "\r\n",
    "    mod.index = {'foo':'bar'}\r\n",
    "    mod.modules.append('lala.bla')\r\n",
    "    save_nbdev_module(mod)\r\n",
    "\r\n",
    "    mod = get_nbdev_module()\r\n",
    "    test_eq(mod.index, {'foo':'bar'})\r\n",
    "    test_eq(mod.modules, ['lala.bla'])\r\n",
    "finally:\r\n",
    "    if ind_bak.exists(): shutil.move(ind_bak, ind)"
   ]
  },
  {
   "cell_type": "markdown",
   "metadata": {},
   "source": [
    "### Create the modules"
   ]
  },
  {
   "cell_type": "code",
   "execution_count": null,
   "metadata": {},
   "outputs": [],
   "source": [
    "#export\r\n",
    "def split_flags_and_code(cell, return_type=list):\r\n",
    "    \"Splits the `source` of a cell into 2 parts and returns (flags, code)\"\r\n",
    "    source_str = cell['source'].replace('\\r', '')\r\n",
    "    code_lines = source_str.split('\\n')\r\n",
    "    split_pos = 0 if code_lines[0].strip().startswith('#') else -1\r\n",
    "    for i, line in enumerate(code_lines):\r\n",
    "        if not line.startswith('#') and line.strip() and not _re_from_future_import.match(line): break\r\n",
    "    split_pos+=1\r\n",
    "    res = code_lines[:split_pos], code_lines[split_pos:]\r\n",
    "    if return_type is list: return res\r\n",
    "    return tuple('\\n'.join(r) for r in res)"
   ]
  },
  {
   "cell_type": "markdown",
   "metadata": {},
   "source": [
    "`return_type` tells us if the tuple returned will contain `list`s of lines or `str`ings with line breaks. \n",
    "\n",
    "We treat the first comment line as a flag"
   ]
  },
  {
   "cell_type": "markdown",
   "metadata": {},
   "source": [
    "<img alt=\"split_flags_and_code example\" width=\"450\" align=\"left\" src=\"images/split_flags_and_code.png\" />"
   ]
  },
  {
   "cell_type": "code",
   "execution_count": null,
   "metadata": {},
   "outputs": [],
   "source": [
    "def _test_split_flags_and_code(expected_flags, expected_code):\r\n",
    "    cell = nbformat.v4.new_code_cell('\\n'.join(expected_flags + expected_code))\r\n",
    "    test_eq((expected_flags, expected_code), split_flags_and_code(cell))\r\n",
    "    expected=('\\n'.join(expected_flags), '\\n'.join(expected_code))\r\n",
    "    test_eq(expected, split_flags_and_code(cell, str))\r\n",
    "    \r\n",
    "_test_split_flags_and_code([\r\n",
    "    '#export'],\r\n",
    "    ['# TODO: write this function',\r\n",
    "    'def func(x): pass'])"
   ]
  },
  {
   "cell_type": "code",
   "execution_count": null,
   "metadata": {},
   "outputs": [],
   "source": [
    "#export\r\n",
    "def create_mod_file(fname, nb_path, bare=False):\r\n",
    "    \"Create a module file for `fname`.\"\r\n",
    "    bare = str(Config().get('bare', bare)) == 'True'\r\n",
    "    fname.parent.mkdir(parents=True, exist_ok=True)\r\n",
    "    file_path = os.path.relpath(nb_path, Config().config_file.parent).replace('\\\\', '/')\r\n",
    "    with open(fname, 'w') as f:\r\n",
    "        if not bare: f.write(f\"# AUTOGENERATED! DO NOT EDIT! File to edit: {file_path} (unless otherwise specified).\")\r\n",
    "        f.write('\\n\\n__all__ = []')"
   ]
  },
  {
   "cell_type": "markdown",
   "metadata": {},
   "source": [
    "A new module filename is created each time a notebook has a cell marked with `#default_exp`. In your collection of notebooks, you should only have one notebook that creates a given module since they are re-created each time you do a library build (to ensure the library is clean). Note that any file you create manually will never be overwritten (unless it has the same name as one of the modules defined in a `#default_exp` cell) so you are responsible to clean up those yourself.\n",
    "\n",
    "`fname` is the notebook that contained the `#default_exp` cell."
   ]
  },
  {
   "cell_type": "code",
   "execution_count": null,
   "metadata": {},
   "outputs": [],
   "source": [
    "#export\r\n",
    "def create_mod_files(files, to_dict=False, bare=False):\r\n",
    "    \"Create mod files for default exports found in `files`\"\r\n",
    "    modules = []\r\n",
    "    for f in sorted(files):\r\n",
    "        fname = Path(f)\r\n",
    "        nb = read_nb(fname)\r\n",
    "        default = find_default_export(nb['cells'])\r\n",
    "        if default is not None:\r\n",
    "            default = os.path.sep.join(default.split('.'))\r\n",
    "            modules.append(default)\r\n",
    "            if not to_dict:\r\n",
    "                create_mod_file(Config().path(\"lib_path\")/f'{default}.py', Config().path(\"nbs_path\")/f'{fname}', bare=bare)\r\n",
    "    return modules"
   ]
  },
  {
   "cell_type": "markdown",
   "metadata": {},
   "source": [
    "Create module files for all `#default_export` flags found in `files` and return a list containing the names of modules created. \n",
    "\n",
    "Note: The number if modules returned will be less that the number of files passed in if files do not `#default_export`.\n",
    "\n",
    "By creating all module files before calling `_notebook2script`, the order of execution no longer matters - so you can now export to a notebook that is run \"later\".\n",
    "\n",
    "You might still have problems when\n",
    "- converting a subset of notebooks or\n",
    "- exporting to a module that does not have a `#default_export` yet\n",
    "\n",
    "in which case `_notebook2script` will print warnings like;\n",
    "```\n",
    "Warning: Exporting to \"core.py\" but this module is not part of this build\n",
    "```\n",
    "\n",
    "If you see a warning like this\n",
    "- and the module file (e.g. \"core.py\") does not exist, you'll see a `FileNotFoundError`\n",
    "- if the module file exists, the exported cell will be written - even if the exported cell is already in the module file"
   ]
  },
  {
   "cell_type": "code",
   "execution_count": null,
   "metadata": {},
   "outputs": [],
   "source": [
    "#export\r\n",
    "def _notebook2script(fname, modules, silent=False, to_dict=None, bare=False):\r\n",
    "    \"Finds cells starting with `#export` and puts them into a module created by `create_mod_files`\"\r\n",
    "    bare = str(Config().get('bare', bare)) == 'True'\r\n",
    "    if os.environ.get('IN_TEST',0): return  # don't export if running tests\r\n",
    "    sep = '\\n'* (int(Config().get('cell_spacing', '1'))+1)\r\n",
    "    fname = Path(fname)\r\n",
    "    nb = read_nb(fname)\r\n",
    "    default = find_default_export(nb['cells'])\r\n",
    "    if default is not None:\r\n",
    "        default = os.path.sep.join(default.split('.'))\r\n",
    "    mod = get_nbdev_module()\r\n",
    "    exports = [is_export(c, default) for c in nb['cells']]\r\n",
    "    cells = [(i,c,e) for i,(c,e) in enumerate(zip(nb['cells'],exports)) if e is not None]\r\n",
    "    for i,c,(e,a) in cells:\r\n",
    "        if e not in modules: print(f'Warning: Exporting to \"{e}.py\" but this module is not part of this build')\r\n",
    "        fname_out = Config().path(\"lib_path\")/f'{e}.py'\r\n",
    "        if bare: orig = \"\\n\"\r\n",
    "        else: orig = (f'# {\"\" if a else \"Internal \"}C' if e==default else f'# Comes from {fname.name}, c') + 'ell\\n'\r\n",
    "        flag_lines,code_lines = split_flags_and_code(c)\r\n",
    "        code_lines = _deal_import(code_lines, fname_out)\r\n",
    "#         print(\"code_lines: \", end='')\r\n",
    "#         pprint(code_lines)\r\n",
    "        code = sep + orig + '\\n'.join(code_lines)\r\n",
    "#         print(\"code: \", end='')\r\n",
    "#         pprint(code)\r\n",
    "        names = export_names(code)\r\n",
    "        flags = '\\n'.join(flag_lines)\r\n",
    "        extra,code = extra_add(flags, code)\r\n",
    "        code = _from_future_import(fname_out, flags, code, to_dict)\r\n",
    "        if a:\r\n",
    "            if to_dict is None: _add2all(fname_out, [f\"'{f}'\" for f in names if '.' not in f and len(f) > 0] + extra)\r\n",
    "        mod.index.update({f: fname.name for f in names})\r\n",
    "        code = re.sub(r' +$', '', code, flags=re.MULTILINE)\r\n",
    "        if code != sep + orig[:-1]:\r\n",
    "            if to_dict is not None: to_dict[e].append((i, fname, code))\r\n",
    "            else:\r\n",
    "                with open(fname_out, 'a', encoding='utf8') as f: f.write(code)\r\n",
    "        if f'{e}.py' not in mod.modules: mod.modules.append(f'{e}.py')\r\n",
    "    save_nbdev_module(mod)\r\n",
    "\r\n",
    "    if not silent: print(f\"Converted {fname.name}.\")\r\n",
    "    return to_dict"
   ]
  },
  {
   "cell_type": "code",
   "execution_count": null,
   "metadata": {},
   "outputs": [
    {
     "name": "stdout",
     "output_type": "stream",
     "text": [
      "Converted 00_export.ipynb.\n"
     ]
    }
   ],
   "source": [
    "#hide\r\n",
    "if not os.environ.get('IN_TEST',0):\r\n",
    "    modules = create_mod_files(glob.glob('00_export.ipynb'))\r\n",
    "    _notebook2script('00_export.ipynb', modules)"
   ]
  },
  {
   "cell_type": "code",
   "execution_count": null,
   "metadata": {},
   "outputs": [],
   "source": [
    "#hide\r\n",
    "with open(Config().path(\"lib_path\")/('export.py')) as f: l = f.readline()\r\n",
    "test_eq(l, '# AUTOGENERATED! DO NOT EDIT! File to edit: nbs/00_export.ipynb (unless otherwise specified).\\n')"
   ]
  },
  {
   "cell_type": "code",
   "execution_count": null,
   "metadata": {},
   "outputs": [],
   "source": [
    "#export\r\n",
    "def add_init(path):\r\n",
    "    \"Add `__init__.py` in all subdirs of `path` containing python files if it's not there already\"\r\n",
    "    for p,d,f in os.walk(path):\r\n",
    "        for f_ in f:\r\n",
    "            if f_.endswith('.py'):\r\n",
    "                if not (Path(p)/'__init__.py').exists(): (Path(p)/'__init__.py').touch()\r\n",
    "                break"
   ]
  },
  {
   "cell_type": "code",
   "execution_count": null,
   "metadata": {},
   "outputs": [],
   "source": [
    "with tempfile.TemporaryDirectory() as d:\r\n",
    "    os.makedirs(Path(d)/'a', exist_ok=True)\r\n",
    "    (Path(d)/'a'/'f.py').touch()\r\n",
    "    os.makedirs(Path(d)/'a/b', exist_ok=True)\r\n",
    "    (Path(d)/'a'/'b'/'f.py').touch()\r\n",
    "    add_init(d)\r\n",
    "    assert not (Path(d)/'__init__.py').exists()\r\n",
    "    for e in [Path(d)/'a', Path(d)/'a/b']:\r\n",
    "        assert (e/'__init__.py').exists()"
   ]
  },
  {
   "cell_type": "code",
   "execution_count": null,
   "metadata": {},
   "outputs": [],
   "source": [
    "#export\r\n",
    "_re_version = re.compile('^__version__\\s*=.*$', re.MULTILINE)"
   ]
  },
  {
   "cell_type": "code",
   "execution_count": null,
   "metadata": {},
   "outputs": [],
   "source": [
    "#export\r\n",
    "def update_version():\r\n",
    "    \"Add or update `__version__` in the main `__init__.py` of the library\"\r\n",
    "    fname = Config().path(\"lib_path\")/'__init__.py'\r\n",
    "    if not fname.exists(): fname.touch()\r\n",
    "    version = f'__version__ = \"{Config().version}\"'\r\n",
    "    with open(fname, 'r') as f: code = f.read()\r\n",
    "    if _re_version.search(code) is None: code = version + \"\\n\" + code\r\n",
    "    else: code = _re_version.sub(version, code)\r\n",
    "    with open(fname, 'w') as f: f.write(code)"
   ]
  },
  {
   "cell_type": "code",
   "execution_count": null,
   "metadata": {},
   "outputs": [],
   "source": [
    "#export\r\n",
    "_re_baseurl = re.compile('^baseurl\\s*:.*$', re.MULTILINE)"
   ]
  },
  {
   "cell_type": "code",
   "execution_count": null,
   "metadata": {},
   "outputs": [],
   "source": [
    "#export\r\n",
    "def update_baseurl():\r\n",
    "    \"Add or update `baseurl` in `_config.yml` for the docs\"\r\n",
    "    fname = Config().path(\"doc_path\")/'_config.yml'\r\n",
    "    if not fname.exists(): return\r\n",
    "    with open(fname, 'r') as f: code = f.read()\r\n",
    "    if _re_baseurl.search(code) is None: code = code + f\"\\nbaseurl: {Config().doc_baseurl}\"\r\n",
    "    else: code = _re_baseurl.sub(f\"baseurl: {Config().doc_baseurl}\", code)\r\n",
    "    with open(fname, 'w') as f: f.write(code)"
   ]
  },
  {
   "cell_type": "code",
   "execution_count": null,
   "metadata": {},
   "outputs": [],
   "source": [
    "#export\r\n",
    "def nbglob(fname=None, recursive=None, extension='.ipynb', config_key='nbs_path') -> L:\r\n",
    "    \"Find all files in a directory matching an extension given a `config_key`. Ignores hidden directories and filenames starting with `_`.  If argument `recursive` is not set to `True` or `False`, this value is retreived from settings.ini with a default of `False`.\"\r\n",
    "    if recursive == None: recursive=Config().get('recursive', 'False').lower() == 'true'\r\n",
    "    fname = Config().path(config_key) if fname is None else Path(fname)\r\n",
    "    if fname.is_dir(): fname = f'{fname.absolute()}/**/*{extension}' if recursive else f'{fname.absolute()}/*{extension}'\r\n",
    "    fls = L(glob.glob(str(fname), recursive=recursive)).filter(lambda x: '/.' not in x).map(Path)\r\n",
    "    return fls.filter(lambda x: not x.name.startswith('_') and x.name.endswith(extension))"
   ]
  },
  {
   "cell_type": "code",
   "execution_count": null,
   "metadata": {},
   "outputs": [],
   "source": [
    "#hide\r\n",
    "with tempfile.TemporaryDirectory() as d:\r\n",
    "    os.makedirs(Path(d)/'a', exist_ok=True)\r\n",
    "    (Path(d)/'a'/'a.ipynb').touch()\r\n",
    "    (Path(d)/'a'/'fake_a.ipynb').touch()\r\n",
    "    os.makedirs(Path(d)/'a/b', exist_ok=True)\r\n",
    "    (Path(d)/'a'/'b'/'fake_b.ipynb').touch()\r\n",
    "    os.makedirs(Path(d)/'a/b/c', exist_ok=True)\r\n",
    "    (Path(d)/'a'/'b'/'c'/'fake_c.ipynb').touch()\r\n",
    "    (Path(d)/'a'/'b'/'c'/'foo_c.ipynb').touch()\r\n",
    "    \r\n",
    "    if sys.platform != \"win32\":\r\n",
    "        assert len(nbglob(str(Path(f'{str(d)}/**/foo*')), recursive=True)) == 1\r\n",
    "    assert len(nbglob(d, recursive=True)) == 5\r\n",
    "    assert len(nbglob(d, recursive=False)) == 0\r\n",
    "    assert len(nbglob(str(Path(f'{d}/a')), recursive=False)) == 2"
   ]
  },
  {
   "cell_type": "code",
   "execution_count": null,
   "metadata": {},
   "outputs": [],
   "source": [
    "#hide\r\n",
    "if sys.platform != \"win32\":\r\n",
    "    assert len(nbglob('*')) > 1\r\n",
    "    assert len(nbglob('*')) >  len(nbglob('0*'))"
   ]
  },
  {
   "cell_type": "code",
   "execution_count": null,
   "metadata": {},
   "outputs": [],
   "source": [
    "assert not nbglob().filter(lambda x: '.ipynb_checkpoints' in str(x))"
   ]
  },
  {
   "cell_type": "code",
   "execution_count": null,
   "metadata": {},
   "outputs": [],
   "source": [
    "#hide\r\n",
    "fnames = nbglob()\r\n",
    "test_eq(len(fnames) > 0, True)\r\n",
    "\r\n",
    "fnames = nbglob(fnames[0])\r\n",
    "test_eq(len(fnames), 1)"
   ]
  },
  {
   "cell_type": "markdown",
   "metadata": {},
   "source": [
    "Optionally you can pass a `config_key` to dictate which directory you are pointing to. By default it's `nbs_path` as without any parameters passed in, it will check for notebooks. To have it instead find library files simply pass in `lib_path` instead.\n",
    "\n",
    "> Note: it will only search for paths in `Config().path`"
   ]
  },
  {
   "cell_type": "code",
   "execution_count": null,
   "metadata": {},
   "outputs": [],
   "source": [
    "#hide\r\n",
    "fnames = nbglob(extension='.py', config_key='lib_path')\r\n",
    "test_eq(len(fnames) > 1, True)"
   ]
  },
  {
   "cell_type": "code",
   "execution_count": null,
   "metadata": {},
   "outputs": [],
   "source": [
    "#export\r\n",
    "def notebook2script(fname=None, silent=False, to_dict=False, bare=False):\r\n",
    "    \"Convert notebooks matching `fname` to modules\"\r\n",
    "    # initial checks\r\n",
    "    if os.environ.get('IN_TEST',0): return  # don't export if running tests\r\n",
    "    if fname is None:\r\n",
    "        reset_nbdev_module()\r\n",
    "        update_version()\r\n",
    "        update_baseurl()\r\n",
    "    files = nbglob(fname=fname)\r\n",
    "    d = collections.defaultdict(list) if to_dict else None\r\n",
    "    modules = create_mod_files(files, to_dict, bare=bare)\r\n",
    "    for f in sorted(files): d = _notebook2script(f, modules, silent=silent, to_dict=d, bare=bare)\r\n",
    "    if to_dict: return d\r\n",
    "    else: add_init(Config().path(\"lib_path\"))"
   ]
  },
  {
   "cell_type": "code",
   "execution_count": null,
   "metadata": {},
   "outputs": [
    {
     "name": "stdout",
     "output_type": "stream",
     "text": [
      "Converted 03_build_parser.ipynb.\n",
      "defaultdict(<class 'list'>,\n",
      "            {'build_parser': [(4,\n",
      "                               Path('../tests/03_build_parser.ipynb'),\n",
      "                               '\\n'\n",
      "                               '\\n'\n",
      "                               '# Internal Cell\\n'\n",
      "                               'from pathlib import Path\\n'\n",
      "                               'from pprint import pprint\\n'\n",
      "                               'from dataclasses import dataclass, astuple, '\n",
      "                               'field\\n'\n",
      "                               'from datetime import datetime\\n'\n",
      "                               'from typing import *\\n'\n",
      "                               'from fastcore import test as ft\\n'\n",
      "                               '\\n'\n",
      "                               'import pandas as pd\\n'\n",
      "                               'import numpy as np\\n'\n",
      "                               'import csv\\n'\n",
      "                               'import json\\n'\n",
      "                               '\\n'\n",
      "                               'import sc2reader\\n'\n",
      "                               '\\n'\n",
      "                               'from sc2readertest import *'),\n",
      "                              (5,\n",
      "                               Path('../tests/03_build_parser.ipynb'),\n",
      "                               '\\n'\n",
      "                               '\\n'\n",
      "                               '# Internal Cell\\n'\n",
      "                               \"data_path = Path(Path.cwd()/'data') if \"\n",
      "                               \"Path('data').exists() else Path('../data')\\n\"\n",
      "                               '\\n'\n",
      "                               \"with open(data_path/'unit_names.csv') as f:\\n\"\n",
      "                               '    file_reader = csv.reader(f)\\n'\n",
      "                               '    unit_names = next(file_reader)\\n'\n",
      "                               '\\n'\n",
      "                               \"with open(data_path/'changes_names.csv') as \"\n",
      "                               'f:\\n'\n",
      "                               '    file_reader = csv.reader(f)\\n'\n",
      "                               '    change_names = next(file_reader)\\n'\n",
      "                               '\\n'\n",
      "                               \"with open(data_path/'army_list.json') as f:\\n\"\n",
      "                               '    race_armies = json.load(f)\\n'\n",
      "                               '\\n'\n",
      "                               \"with open(data_path/'buildings_list.json') as \"\n",
      "                               'f:\\n'\n",
      "                               '    race_buildings = json.load(f)\\n'\n",
      "                               '\\n'\n",
      "                               \"with open(data_path/'upgrades.json') as f:\\n\"\n",
      "                               '    race_upgrades = json.load(f)\\n'),\n",
      "                              (11,\n",
      "                               Path('../tests/03_build_parser.ipynb'),\n",
      "                               '\\n'\n",
      "                               '\\n'\n",
      "                               '# Cell\\n'\n",
      "                               'def list_player_upgrades(rpl: '\n",
      "                               'sc2reader.resources.Replay, pid: int) -> '\n",
      "                               'dict[str, float]:\\n'\n",
      "                               '    \"\"\"Lists the times at wich the player '\n",
      "                               'completed their updates\\n'\n",
      "                               '    \"\"\"\\n'\n",
      "                               '    player_race = rpl.player[pid].play_race\\n'\n",
      "                               '\\n'\n",
      "                               '    upg_events = {upg_event.upgrade_type_name: '\n",
      "                               'calc_realtime_index(upg_event.second, rpl)\\n'\n",
      "                               '        for upg_event in rpl.events\\n'\n",
      "                               '        if isinstance(upg_event, '\n",
      "                               'sc2reader.events.tracker.UpgradeCompleteEvent)\\n'\n",
      "                               '        and upg_event.pid == pid\\n'\n",
      "                               '        and upg_event.upgrade_type_name in '\n",
      "                               'race_upgrades[player_race]}\\n'\n",
      "                               '\\n'\n",
      "                               '    return {upgrade_name: '\n",
      "                               'upg_events.get(upgrade_name, 0) for '\n",
      "                               'upgrade_name in '\n",
      "                               'race_upgrades[player_race]}\\n')]})\n"
     ]
    }
   ],
   "source": [
    "from pprint import pprint\r\n",
    "tst_file = Path('../tests/03_build_parser.ipynb')\r\n",
    "assert tst_file.is_file()\r\n",
    "\r\n",
    "build_test = notebook2script('../tests/03_build_parser.ipynb', to_dict=True)\r\n",
    "pprint(build_test)"
   ]
  },
  {
   "cell_type": "code",
   "execution_count": null,
   "metadata": {},
   "outputs": [
    {
     "name": "stdout",
     "output_type": "stream",
     "text": [
      "Converted 00_vsc_test.ipynb.\n",
      "defaultdict(<class 'list'>,\n",
      "            {'vsc_test': [(3,\n",
      "                           Path('../tests/00_vsc_test.ipynb'),\n",
      "                           '\\n\\n# Cell\\n\\nimport fastcore.test as fct'),\n",
      "                          (5,\n",
      "                           Path('../tests/00_vsc_test.ipynb'),\n",
      "                           '\\n'\n",
      "                           '\\n'\n",
      "                           '# Internal Cell\\n'\n",
      "                           '\\n'\n",
      "                           '#This cell should be exported but not included in '\n",
      "                           '__all__\\n'\n",
      "                           '\\n'\n",
      "                           'def test_funct_1(x, y):\\n'\n",
      "                           '    print(\"Test_1\")\\n'\n",
      "                           '    return x + y'),\n",
      "                          (7,\n",
      "                           Path('../tests/00_vsc_test.ipynb'),\n",
      "                           '\\n'\n",
      "                           '\\n'\n",
      "                           '# Cell\\n'\n",
      "                           '\\n'\n",
      "                           'def test_exp_funct(x, y):\\n'\n",
      "                           \"    '''The function adds x and y.\\n\"\n",
      "                           '    It returns the result + 1\\n'\n",
      "                           \"    '''\\n\"\n",
      "                           \"    print('TEST 2')\\n\"\n",
      "                           '    return test_funct_1(x, y) + 1\\n'\n",
      "                           '\\n')]})\n"
     ]
    }
   ],
   "source": [
    "from pprint import pprint\r\n",
    "tst_file = Path('../tests/00_vsc_test.ipynb')\r\n",
    "assert tst_file.is_file()\r\n",
    "\r\n",
    "build_test = notebook2script('../tests/00_vsc_test.ipynb', to_dict=True)\r\n",
    "pprint(build_test)"
   ]
  },
  {
   "cell_type": "markdown",
   "metadata": {},
   "source": [
    "Finds cells starting with `#export` and puts them into the appropriate module. If `fname` is not specified, this will convert all notebook not beginning with an underscore in the `nb_folder` defined in `setting.ini`. Otherwise `fname` can be a single filename or a glob expression.\n",
    "\n",
    "`silent` makes the command not print any statement and `to_dict` is used internally to convert the library to a dictionary. "
   ]
  },
  {
   "cell_type": "code",
   "execution_count": null,
   "metadata": {},
   "outputs": [],
   "source": [
    "#export\r\n",
    "class DocsTestClass:\r\n",
    "    \"for tests only\"\r\n",
    "    def test(): pass"
   ]
  },
  {
   "cell_type": "code",
   "execution_count": null,
   "metadata": {},
   "outputs": [],
   "source": [
    "#hide\r\n",
    "#exporti\r\n",
    "#for tests only\r\n",
    "def update_lib_with_exporti_testfn(): pass"
   ]
  },
  {
   "cell_type": "markdown",
   "metadata": {},
   "source": [
    "## Export -"
   ]
  },
  {
   "cell_type": "code",
   "execution_count": null,
   "metadata": {},
   "outputs": [
    {
     "name": "stdout",
     "output_type": "stream",
     "text": [
      "Converted 00_export.ipynb.\n",
      "Converted 01_sync.ipynb.\n",
      "Converted 02_showdoc.ipynb.\n",
      "Converted 03_export2html.ipynb.\n",
      "Converted 04_test.ipynb.\n",
      "Converted 05_merge.ipynb.\n",
      "Converted 06_cli.ipynb.\n",
      "Converted 07_clean.ipynb.\n",
      "Converted 99_search.ipynb.\n",
      "Converted example.ipynb.\n",
      "Converted index.ipynb.\n",
      "Converted nbdev_comments.ipynb.\n",
      "Converted tutorial.ipynb.\n",
      "Converted tutorial_colab.ipynb.\n"
     ]
    }
   ],
   "source": [
    "# #hide\r\n",
    "notebook2script()"
   ]
  },
  {
   "cell_type": "code",
   "execution_count": null,
   "metadata": {},
   "outputs": [],
   "source": []
  }
 ],
 "metadata": {
  "jupytext": {
   "split_at_heading": true
  },
  "kernelspec": {
   "display_name": "Python 3.9.5 64-bit ('sctraining_env': conda)",
   "name": "python3"
  }
 },
 "nbformat": 4,
 "nbformat_minor": 4
}
