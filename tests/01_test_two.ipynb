{
 "cells": [
  {
   "cell_type": "code",
   "execution_count": null,
   "source": [
    "# default_exp test_two\r\n",
    "\r\n"
   ],
   "outputs": [],
   "metadata": {}
  },
  {
   "cell_type": "code",
   "execution_count": null,
   "source": [
    "#hide\r\n",
    "from nbdev.showdoc import *"
   ],
   "outputs": [],
   "metadata": {}
  },
  {
   "cell_type": "markdown",
   "source": [
    "# Chap 2 This is the second test\r\n",
    "\r\n",
    "> Test two"
   ],
   "metadata": {}
  },
  {
   "cell_type": "code",
   "execution_count": 2,
   "source": [
    "#exporti\r\n",
    "\r\n",
    "def internal_funct(x: str, y: str) -> str:\r\n",
    "    \"\"\"This function concatenates 2 strings\r\n",
    "\r\n",
    "    *Args*\r\n",
    "        - x (str)\r\n",
    "        - y (str)\r\n",
    "    \r\n",
    "    *Returns*\r\n",
    "        - (str) a concatenation of x and y\r\n",
    "    \"\"\"\r\n",
    "    print('I am an internal function')\r\n",
    "\r\n",
    "    return x + y "
   ],
   "outputs": [],
   "metadata": {}
  },
  {
   "cell_type": "markdown",
   "source": [
    "The following tests the `internal_funct`"
   ],
   "metadata": {}
  },
  {
   "cell_type": "code",
   "execution_count": 11,
   "source": [
    "print(internal_funct('First', ' Test'))"
   ],
   "outputs": [
    {
     "output_type": "stream",
     "name": "stdout",
     "text": [
      "I am an internal function\n",
      "First Test\n"
     ]
    }
   ],
   "metadata": {}
  },
  {
   "cell_type": "markdown",
   "source": [
    "## NEXT ARE THE exportable functions"
   ],
   "metadata": {}
  },
  {
   "cell_type": "code",
   "execution_count": 12,
   "source": [
    "#exports\r\n",
    "\r\n",
    "def exportable_public_funct(x: int, y: int) -> str:\r\n",
    "    \"\"\"Sums 2 ints and returns a string\r\n",
    "\r\n",
    "    *Args*\r\n",
    "        - x (int)\r\n",
    "        - y (int)\r\n",
    "    \r\n",
    "    *Returns*\r\n",
    "        - (str) string representing the value of x + y\r\n",
    "    \"\"\"\r\n",
    "    print('I am a public function')\r\n",
    "\r\n",
    "    return str(x + y)"
   ],
   "outputs": [],
   "metadata": {}
  },
  {
   "cell_type": "code",
   "execution_count": 13,
   "source": [
    "print(exportable_public_funct(1,2))"
   ],
   "outputs": [
    {
     "output_type": "stream",
     "name": "stdout",
     "text": [
      "I am a public function\n",
      "3\n"
     ]
    }
   ],
   "metadata": {}
  },
  {
   "cell_type": "code",
   "execution_count": 14,
   "source": [
    "#export\r\n",
    "\r\n",
    "def export_funct(x: int, y: int) -> str:\r\n",
    "    \"\"\"Concatenates the result of two previous functs\r\n",
    "\r\n",
    "    *Args*\r\n",
    "        - x (int)\r\n",
    "        - y (int)\r\n",
    "    \r\n",
    "    *Returns*\r\n",
    "        - (str) condatenation of results\r\n",
    "    \"\"\"\r\n",
    "    print('I am a public function')\r\n",
    "\r\n",
    "    return internal_funct(str(x),str(y)) + exportable_public_funct(x,y)"
   ],
   "outputs": [],
   "metadata": {}
  },
  {
   "cell_type": "code",
   "execution_count": 15,
   "source": [
    "print(export_funct(1,2))"
   ],
   "outputs": [
    {
     "output_type": "stream",
     "name": "stdout",
     "text": [
      "I am a public function\n",
      "I am an internal function\n",
      "I am a public function\n",
      "123\n"
     ]
    }
   ],
   "metadata": {}
  },
  {
   "cell_type": "code",
   "execution_count": 16,
   "source": [
    "#hide\r\n",
    "from nbdev.export import notebook2script\r\n",
    "notebook2script()"
   ],
   "outputs": [
    {
     "output_type": "stream",
     "name": "stdout",
     "text": [
      "Converted 00_vsc_test.ipynb.\n",
      "Converted 01_test_two.ipynb.\n",
      "Converted index.ipynb.\n"
     ]
    }
   ],
   "metadata": {}
  },
  {
   "cell_type": "code",
   "execution_count": null,
   "source": [],
   "outputs": [],
   "metadata": {}
  }
 ],
 "metadata": {
  "orig_nbformat": 4,
  "language_info": {
   "name": "python",
   "version": "3.9.5",
   "mimetype": "text/x-python",
   "codemirror_mode": {
    "name": "ipython",
    "version": 3
   },
   "pygments_lexer": "ipython3",
   "nbconvert_exporter": "python",
   "file_extension": ".py"
  },
  "kernelspec": {
   "name": "python3",
   "display_name": "Python 3.9.5 64-bit ('sctraining_env': conda)"
  },
  "interpreter": {
   "hash": "a3b0098715de2fdc5c992906ea13628bfdb0736e4551c04209ccb62635ab8ee3"
  }
 },
 "nbformat": 4,
 "nbformat_minor": 2
}